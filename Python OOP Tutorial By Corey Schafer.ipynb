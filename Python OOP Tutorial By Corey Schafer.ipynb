{
 "cells": [
  {
   "cell_type": "markdown",
   "id": "7d8a00cf",
   "metadata": {},
   "source": [
    "## Python OOP Tutorial 1 Classes and Instances"
   ]
  },
  {
   "cell_type": "code",
   "execution_count": 42,
   "id": "d4e66d11",
   "metadata": {},
   "outputs": [
    {
     "name": "stdout",
     "output_type": "stream",
     "text": [
      "\u001b[91m fullname() takes 0 positional arguments but 1 was given\n"
     ]
    }
   ],
   "source": [
    "class Employee:\n",
    "    def __init__(self, first, last, pay):\n",
    "        self.first = first\n",
    "        self.last = last\n",
    "        self.pay = pay\n",
    "        self.email = self.first + '.' + self.last + '@compay.com'\n",
    "\n",
    "    def fullname():\n",
    "        return f'{self.first} {self.last}'\n",
    "    \n",
    "    def __str__(self):\n",
    "        return self.fullname()\n",
    "    \n",
    "emp1 = Employee('test', 'user', 5000)\n",
    "emp2 = Employee(first='test2', last='user2', pay=6000)\n",
    "\n",
    "try:\n",
    "    emp1.fullname()\n",
    "except Exception as e:\n",
    "    print(f'\\033[91m {e}') "
   ]
  },
  {
   "cell_type": "markdown",
   "id": "771a1350",
   "metadata": {},
   "source": [
    "Although as seen above, we haven't passed self to fullname() in class definition, it is passed automatically when function is called by object.  <br>\n",
    "Because calling <br> \n",
    "_emp1.fullname()_ <br>\n",
    "is same as calling<br>\n",
    "_Employee.fullname(emp1)_."
   ]
  },
  {
   "cell_type": "code",
   "execution_count": 2,
   "id": "9a34a9e9",
   "metadata": {},
   "outputs": [],
   "source": [
    "class Employee:\n",
    "    def __init__(self, first, last, pay):\n",
    "        self.first = first\n",
    "        self.last = last\n",
    "        self.pay = pay\n",
    "        self.email = self.first + '.' + self.last + '@compay.com'\n",
    "\n",
    "    def fullname(self):\n",
    "        return f'{self.first} {self.last}'\n",
    "    \n",
    "    def __str__(self):\n",
    "        return self.fullname()\n",
    "    \n",
    "emp1 = Employee('test', 'user', 5000)\n",
    "emp2 = Employee(first='test2', last='user2', pay=6000)"
   ]
  },
  {
   "cell_type": "markdown",
   "id": "530b2c5e",
   "metadata": {},
   "source": [
    "self.first, self.last etc are instance variables which are specific to an object. <br>\n",
    "class variables on the other hand share variables with each other."
   ]
  },
  {
   "cell_type": "markdown",
   "id": "5e642762",
   "metadata": {},
   "source": [
    "### Class vs Instance Variables"
   ]
  },
  {
   "cell_type": "code",
   "execution_count": 3,
   "id": "2ed28041",
   "metadata": {},
   "outputs": [
    {
     "name": "stdout",
     "output_type": "stream",
     "text": [
      "1.4\n",
      "1.4\n",
      "1.4\n"
     ]
    }
   ],
   "source": [
    "class Employee:\n",
    "    \n",
    "    raise_amount = 1.4\n",
    "    \n",
    "    def __init__(self, first, last, pay):\n",
    "        self.first = first\n",
    "        self.last = last\n",
    "        self.pay = pay\n",
    "        self.email = self.first + '.' + self.last + '@compay.com'\n",
    "\n",
    "    def fullname(self):\n",
    "        return f'{self.first} {self.last}'\n",
    "    \n",
    "    def raise_pay(self):\n",
    "        self.pay = self.pay * self.raise_amount\n",
    "    \n",
    "    def __str__(self):\n",
    "        return self.fullname()\n",
    "    \n",
    "emp1 = Employee('test', 'user', 5000)\n",
    "emp2 = Employee(first='test2', last='user2', pay=6000)\n",
    "\n",
    "print(Employee.raise_amount)\n",
    "print(emp1.raise_amount)\n",
    "print(emp2.raise_amount)"
   ]
  },
  {
   "cell_type": "markdown",
   "id": "54fddc9e",
   "metadata": {},
   "source": [
    "So how raise_amount is accessible by emp objects? So if we try to access an attribute, it is first looked up in the instance itself. If it is not found, it is searched in class variables and the classes it inherits from. "
   ]
  },
  {
   "cell_type": "code",
   "execution_count": 4,
   "id": "d4825dad",
   "metadata": {},
   "outputs": [
    {
     "data": {
      "text/plain": [
       "{'first': 'test', 'last': 'user', 'pay': 5000, 'email': 'test.user@compay.com'}"
      ]
     },
     "execution_count": 4,
     "metadata": {},
     "output_type": "execute_result"
    }
   ],
   "source": [
    "emp1.__dict__"
   ]
  },
  {
   "cell_type": "markdown",
   "id": "9f7e3f3a",
   "metadata": {},
   "source": [
    "so emp1 doesn't have raise_amount but class Employee has that."
   ]
  },
  {
   "cell_type": "code",
   "execution_count": 5,
   "id": "3200bd7a",
   "metadata": {},
   "outputs": [
    {
     "data": {
      "text/plain": [
       "mappingproxy({'__module__': '__main__',\n",
       "              'raise_amount': 1.4,\n",
       "              '__init__': <function __main__.Employee.__init__(self, first, last, pay)>,\n",
       "              'fullname': <function __main__.Employee.fullname(self)>,\n",
       "              'raise_pay': <function __main__.Employee.raise_pay(self)>,\n",
       "              '__str__': <function __main__.Employee.__str__(self)>,\n",
       "              '__dict__': <attribute '__dict__' of 'Employee' objects>,\n",
       "              '__weakref__': <attribute '__weakref__' of 'Employee' objects>,\n",
       "              '__doc__': None})"
      ]
     },
     "execution_count": 5,
     "metadata": {},
     "output_type": "execute_result"
    }
   ],
   "source": [
    "Employee.__dict__"
   ]
  },
  {
   "cell_type": "markdown",
   "id": "fe51a4e3",
   "metadata": {},
   "source": [
    "### Changing raise_amount with Employee Obj"
   ]
  },
  {
   "cell_type": "code",
   "execution_count": 6,
   "id": "ca743ec4",
   "metadata": {},
   "outputs": [
    {
     "name": "stdout",
     "output_type": "stream",
     "text": [
      "1.4\n",
      "1.06\n",
      "1.4\n"
     ]
    }
   ],
   "source": [
    "emp1.raise_amount = 1.06\n",
    "\n",
    "print(Employee.raise_amount)\n",
    "print(emp1.raise_amount)\n",
    "print(emp2.raise_amount)"
   ]
  },
  {
   "cell_type": "markdown",
   "id": "b00eb791",
   "metadata": {},
   "source": [
    "so why only emp1.raise_amount changed and not of class and other instance variables? <br>\n",
    "well emp1 now has its own attribute with raise_amount = 1.06"
   ]
  },
  {
   "cell_type": "code",
   "execution_count": 7,
   "id": "04b578f3",
   "metadata": {},
   "outputs": [
    {
     "data": {
      "text/plain": [
       "{'first': 'test',\n",
       " 'last': 'user',\n",
       " 'pay': 5000,\n",
       " 'email': 'test.user@compay.com',\n",
       " 'raise_amount': 1.06}"
      ]
     },
     "execution_count": 7,
     "metadata": {},
     "output_type": "execute_result"
    }
   ],
   "source": [
    "emp1.__dict__"
   ]
  },
  {
   "cell_type": "markdown",
   "id": "5a91b97d",
   "metadata": {},
   "source": [
    "So if we change definition of raise_pay() to below\n",
    "\n",
    "`def raise_pay(self):\n",
    "    self.pay = self.pay * Employee.raise_amount`\n",
    "    \n",
    "so Employee.raise_amount instead of self.raise_amount <br>\n",
    "- it means emp1.raise_amount = 1.06 like statements will never have any effect and we won't be able to change raise_amount for any specific employee.\n",
    "- Also using self.raise_amount will allow any subclass to change that constant."
   ]
  },
  {
   "cell_type": "markdown",
   "id": "d5035fba",
   "metadata": {},
   "source": [
    "### Case when using self won't make sense\n",
    "if we want to have total numbers of employees in a class variable, it wouldn't make sense to use self.total_employees as it should not be change by any object. "
   ]
  },
  {
   "cell_type": "code",
   "execution_count": 8,
   "id": "b59c5ef9",
   "metadata": {},
   "outputs": [
    {
     "name": "stdout",
     "output_type": "stream",
     "text": [
      "2\n"
     ]
    }
   ],
   "source": [
    "class Employee:\n",
    "    \n",
    "    raise_amount = 1.4\n",
    "    num_of_emps = 0\n",
    "    \n",
    "    def __init__(self, first, last, pay):\n",
    "        self.first = first\n",
    "        self.last = last\n",
    "        self.pay = pay\n",
    "        self.email = self.first + '.' + self.last + '@compay.com'\n",
    "        \n",
    "        Employee.num_of_emps += 1\n",
    "\n",
    "    def fullname(self):\n",
    "        return f'{self.first} {self.last}'\n",
    "    \n",
    "    def raise_pay(self):\n",
    "        self.pay = self.pay * self.raise_amount\n",
    "    \n",
    "    def __str__(self):\n",
    "        return self.fullname()\n",
    "    \n",
    "emp1 = Employee('test', 'user', 5000)\n",
    "emp2 = Employee(first='test2', last='user2', pay=6000)\n",
    "\n",
    "print(Employee.num_of_emps)"
   ]
  },
  {
   "cell_type": "markdown",
   "id": "90825ffa",
   "metadata": {},
   "source": [
    "## Python OOP Tutorial 3: classmethods and staticmethods"
   ]
  },
  {
   "cell_type": "code",
   "execution_count": 9,
   "id": "44d3ce7d",
   "metadata": {},
   "outputs": [
    {
     "name": "stdout",
     "output_type": "stream",
     "text": [
      "1.05\n",
      "1.05\n",
      "1.05\n"
     ]
    }
   ],
   "source": [
    "class Employee:\n",
    "    \n",
    "    raise_amount = 1.4\n",
    "    num_of_emps = 0\n",
    "    \n",
    "    def __init__(self, first, last, pay):\n",
    "        self.first = first\n",
    "        self.last = last\n",
    "        self.pay = pay\n",
    "        self.email = self.first + '.' + self.last + '@compay.com'\n",
    "        \n",
    "        Employee.num_of_emps += 1\n",
    "\n",
    "    def fullname(self):\n",
    "        return f'{self.first} {self.last}'\n",
    "    \n",
    "    def raise_pay(self):\n",
    "        self.pay = self.pay * self.raise_amount\n",
    "    \n",
    "    @classmethod\n",
    "    def set_raise_amount(cls, amount):\n",
    "        Employee.raise_amount = amount\n",
    "    \n",
    "    def __str__(self):\n",
    "        return self.fullname()\n",
    "    \n",
    "emp1 = Employee('test', 'user', 5000)\n",
    "emp2 = Employee(first='test2', last='user2', pay=6000)\n",
    "\n",
    "Employee.set_raise_amount(1.05)\n",
    "# equivalent to \n",
    "# Employee.raise_amount = 1.05\n",
    "\n",
    "print(Employee.raise_amount)\n",
    "print(emp1.raise_amount)\n",
    "print(emp2.raise_amount)"
   ]
  },
  {
   "cell_type": "markdown",
   "id": "81d9de55",
   "metadata": {},
   "source": [
    "**you can call class methods using object as well but that is discouraged as it doesn't make any sense.**"
   ]
  },
  {
   "cell_type": "code",
   "execution_count": 10,
   "id": "8e693ef5",
   "metadata": {},
   "outputs": [
    {
     "name": "stdout",
     "output_type": "stream",
     "text": [
      "1.09\n",
      "1.09\n",
      "1.09\n"
     ]
    }
   ],
   "source": [
    "emp1.set_raise_amount(1.09)\n",
    "\n",
    "print(Employee.raise_amount)\n",
    "print(emp1.raise_amount)\n",
    "print(emp2.raise_amount)"
   ]
  },
  {
   "cell_type": "markdown",
   "id": "5e7ddd03",
   "metadata": {},
   "source": [
    "### Creating more constructors using @classmethods as in datetime.py file \n",
    "**Examples in datetime.py constructors are  fromtimestamp, today, fromordinal class methods** <br> <br>\n",
    "**So if we have many employees data separated by hyphens, we can create another constructor instead of user calling string split method**"
   ]
  },
  {
   "cell_type": "code",
   "execution_count": 11,
   "id": "a1fcd1bf",
   "metadata": {},
   "outputs": [
    {
     "name": "stdout",
     "output_type": "stream",
     "text": [
      "Burhan tariq\n",
      "Burhan tariq\n"
     ]
    }
   ],
   "source": [
    "class Employee:\n",
    "    \n",
    "    raise_amount = 1.4\n",
    "    num_of_emps = 0\n",
    "    \n",
    "    def __init__(self, first, last, pay):\n",
    "        self.first = first\n",
    "        self.last = last\n",
    "        self.pay = pay\n",
    "        self.email = self.first + '.' + self.last + '@compay.com'\n",
    "        \n",
    "        Employee.num_of_emps += 1\n",
    "\n",
    "    def fullname(self):\n",
    "        return f'{self.first} {self.last}'\n",
    "    \n",
    "    def raise_pay(self):\n",
    "        self.pay = self.pay * self.raise_amount\n",
    "    \n",
    "    @classmethod\n",
    "    def set_raise_amount(cls, amount):\n",
    "        Employee.raise_amount = amount\n",
    "        \n",
    "    @classmethod    \n",
    "    def from_string(cls, emp_str):\n",
    "        first, last, pay = emp_str.split('-')\n",
    "        return cls(first, last, pay)\n",
    "    \n",
    "    @staticmethod\n",
    "    def is_workday(day):\n",
    "        if day.weekday() == 5 or day.weekday() == 6:\n",
    "            return True\n",
    "        return False\n",
    "    \n",
    "    def __str__(self):\n",
    "        return self.fullname()\n",
    "    \n",
    "emp1 = Employee('test', 'user', 5000)\n",
    "emp2 = Employee(first='test2', last='user2', pay=6000)\n",
    "\n",
    "\n",
    "emp_str_1 = 'Burhan-tariq-300K'\n",
    "emp_str_2 = 'Muaaz-Khalid-300K'\n",
    "emp_str_3 = 'Amir-Ali-300K'\n",
    "\n",
    "first, last, pay = emp_str_1.split('-')\n",
    "new_emp_1 = Employee(first, last, pay)\n",
    "\n",
    "# or create using this constructor\n",
    "new_emp_2 = Employee.from_string(emp_str_1)\n",
    "\n",
    "print(new_emp_1)\n",
    "print(new_emp_2)"
   ]
  },
  {
   "cell_type": "markdown",
   "id": "eb14da11",
   "metadata": {},
   "source": [
    "#### Static Method is used when you are not using any instance or class variables like `is_workday(day)` above"
   ]
  },
  {
   "cell_type": "code",
   "execution_count": 12,
   "id": "bcf8291a",
   "metadata": {},
   "outputs": [
    {
     "name": "stdout",
     "output_type": "stream",
     "text": [
      "True\n",
      "False\n"
     ]
    }
   ],
   "source": [
    "import datetime\n",
    "my_date = datetime.date(2022, 9, 10)\n",
    "print(Employee.is_workday(my_date))\n",
    "\n",
    "my_date = datetime.date(2022, 9, 12)\n",
    "print(Employee.is_workday(my_date))"
   ]
  },
  {
   "cell_type": "markdown",
   "id": "daa35416",
   "metadata": {},
   "source": [
    "## Python OOP Tutorial 4: Inheritance - Creating Subclasses"
   ]
  },
  {
   "cell_type": "code",
   "execution_count": 13,
   "id": "a7842b5a",
   "metadata": {},
   "outputs": [
    {
     "name": "stdout",
     "output_type": "stream",
     "text": [
      "test.user@compay.com\n",
      "test2.user2@compay.com\n"
     ]
    }
   ],
   "source": [
    "class Employee:\n",
    "    \n",
    "    raise_amount = 1.04\n",
    "    \n",
    "    def __init__(self, first, last, pay):\n",
    "        self.first = first\n",
    "        self.last = last\n",
    "        self.pay = pay\n",
    "        self.email = self.first + '.' + self.last + '@compay.com'\n",
    "        \n",
    "\n",
    "    def fullname(self):\n",
    "        return f'{self.first} {self.last}'\n",
    "    \n",
    "    def apply_raise(self):\n",
    "        self.pay = self.pay * self.raise_amount\n",
    "\n",
    "    def __str__(self):\n",
    "        return self.fullname()\n",
    "    \n",
    "\n",
    "class Developer(Employee):\n",
    "    pass\n",
    "    \n",
    "emp1 = Employee('test', 'user', 5000)\n",
    "emp2 = Employee(first='test2', last='user2', pay=6000)\n",
    "\n",
    "print(emp1.email)\n",
    "print(emp2.email)"
   ]
  },
  {
   "cell_type": "markdown",
   "id": "ee9d0c54",
   "metadata": {},
   "source": [
    "**same as because of inheritance**"
   ]
  },
  {
   "cell_type": "code",
   "execution_count": 14,
   "id": "79157d98",
   "metadata": {},
   "outputs": [
    {
     "name": "stdout",
     "output_type": "stream",
     "text": [
      "test.user@compay.com\n",
      "test2.user2@compay.com\n"
     ]
    }
   ],
   "source": [
    "emp1 = Developer('test', 'user', 5000)\n",
    "emp2 = Developer(first='test2', last='user2', pay=6000)\n",
    "\n",
    "print(emp1.email)\n",
    "print(emp2.email)"
   ]
  },
  {
   "cell_type": "markdown",
   "id": "78be9f19",
   "metadata": {},
   "source": [
    "### MRO"
   ]
  },
  {
   "cell_type": "markdown",
   "id": "a5a6772e",
   "metadata": {},
   "source": [
    "**Python will first look for \\__init__ method in Developer class, if not found in its parent classes it inherited from until the chain of inheritance is completed. This is called method resolution order. Can be visualized with help()**"
   ]
  },
  {
   "cell_type": "code",
   "execution_count": 15,
   "id": "d001ac8c",
   "metadata": {},
   "outputs": [
    {
     "name": "stdout",
     "output_type": "stream",
     "text": [
      "Help on class Developer in module __main__:\n",
      "\n",
      "class Developer(Employee)\n",
      " |  Developer(first, last, pay)\n",
      " |  \n",
      " |  Method resolution order:\n",
      " |      Developer\n",
      " |      Employee\n",
      " |      builtins.object\n",
      " |  \n",
      " |  Methods inherited from Employee:\n",
      " |  \n",
      " |  __init__(self, first, last, pay)\n",
      " |      Initialize self.  See help(type(self)) for accurate signature.\n",
      " |  \n",
      " |  __str__(self)\n",
      " |      Return str(self).\n",
      " |  \n",
      " |  apply_raise(self)\n",
      " |  \n",
      " |  fullname(self)\n",
      " |  \n",
      " |  ----------------------------------------------------------------------\n",
      " |  Data descriptors inherited from Employee:\n",
      " |  \n",
      " |  __dict__\n",
      " |      dictionary for instance variables (if defined)\n",
      " |  \n",
      " |  __weakref__\n",
      " |      list of weak references to the object (if defined)\n",
      " |  \n",
      " |  ----------------------------------------------------------------------\n",
      " |  Data and other attributes inherited from Employee:\n",
      " |  \n",
      " |  raise_amount = 1.04\n",
      "\n",
      "None\n"
     ]
    }
   ],
   "source": [
    "print(help(Developer))"
   ]
  },
  {
   "cell_type": "markdown",
   "id": "efdff21d",
   "metadata": {},
   "source": [
    "### Changes of Sub-class don't effect Parent classes"
   ]
  },
  {
   "cell_type": "code",
   "execution_count": 16,
   "id": "0a2807ca",
   "metadata": {},
   "outputs": [],
   "source": [
    "class Developer(Employee):\n",
    "    raise_amount = 1.10"
   ]
  },
  {
   "cell_type": "code",
   "execution_count": 17,
   "id": "ad8ec55e",
   "metadata": {},
   "outputs": [
    {
     "name": "stdout",
     "output_type": "stream",
     "text": [
      "5000\n",
      "5500.0\n"
     ]
    }
   ],
   "source": [
    "emp1 = Developer('test', 'user', 5000)\n",
    "emp2 = Developer(first='test2', last='user2', pay=6000)\n",
    "\n",
    "print(emp1.pay)\n",
    "emp1.apply_raise()\n",
    "print(emp1.pay)"
   ]
  },
  {
   "cell_type": "code",
   "execution_count": 18,
   "id": "c95996b5",
   "metadata": {},
   "outputs": [
    {
     "name": "stdout",
     "output_type": "stream",
     "text": [
      "5000\n",
      "5200.0\n"
     ]
    }
   ],
   "source": [
    "emp1 = Employee('test', 'user', 5000)\n",
    "emp2 = Employee(first='test2', last='user2', pay=6000)\n",
    "\n",
    "print(emp1.pay)\n",
    "emp1.apply_raise()\n",
    "print(emp1.pay)"
   ]
  },
  {
   "cell_type": "markdown",
   "id": "5addd6cd",
   "metadata": {},
   "source": [
    "As can see, changing raise_amount in Developer didn't had any effect on Employee objects."
   ]
  },
  {
   "cell_type": "markdown",
   "id": "981c71ec",
   "metadata": {},
   "source": [
    "### Super().__init vs Employee.__init__\n",
    "You can use Employee.\\__init__ but super().\\__init__ is simple and needed in multiple inheritance"
   ]
  },
  {
   "cell_type": "code",
   "execution_count": 19,
   "id": "a9723086",
   "metadata": {},
   "outputs": [
    {
     "name": "stdout",
     "output_type": "stream",
     "text": [
      "Python\n",
      "Java\n"
     ]
    }
   ],
   "source": [
    "class Developer(Employee):\n",
    "    \n",
    "    def __init__(self, first, last, pay, prog_lang):\n",
    "        super().__init__(first, last, pay)\n",
    "#         Employee.__init__(self, first, last, pay)\n",
    "        self.prog_lang = prog_lang\n",
    "    \n",
    "dev1 = Developer('test', 'user', 5000, 'Python')\n",
    "dev2 = Developer(first='test2', last='user2', pay=6000, prog_lang='Java')    \n",
    "\n",
    "print(dev1.prog_lang)\n",
    "print(dev2.prog_lang)"
   ]
  },
  {
   "cell_type": "markdown",
   "id": "d3fdff52",
   "metadata": {},
   "source": [
    "### Don't pass mutable data type as argument"
   ]
  },
  {
   "cell_type": "code",
   "execution_count": 20,
   "id": "5b54ac1e",
   "metadata": {},
   "outputs": [
    {
     "name": "stdout",
     "output_type": "stream",
     "text": [
      "test.user@compay.com\n",
      "\n",
      "----> test user \n",
      "----> test user ----> test2 user2 \n",
      "----> test2 user2 \n"
     ]
    }
   ],
   "source": [
    "class Manager(Employee):\n",
    "    \n",
    "    # Don't pass employees=[]\n",
    "    def __init__(self, first, last, pay, employees=None):\n",
    "        super().__init__(first, last, pay)\n",
    "                \n",
    "        if employees is None:\n",
    "            self.employees = []\n",
    "        else:\n",
    "            self.employees = employees\n",
    "    \n",
    "    def add_emp(self, emp):\n",
    "        if emp not in self.employees:\n",
    "            self.employees.append(emp)\n",
    "    \n",
    "    def remove_emp(self, emp):\n",
    "        if emp in self.employees:\n",
    "            self.employees.remove(emp)\n",
    "            \n",
    "    def print_emps(self):\n",
    "        for emp in self.employees:\n",
    "            print(f'----> {emp.fullname()}', end=' ')\n",
    "            \n",
    "        print()\n",
    "            \n",
    "dev1 = Developer('test', 'user', 5000, 'Python')\n",
    "dev2 = Developer(first='test2', last='user2', pay=6000, prog_lang='Java') \n",
    "\n",
    "mngr_1 = Manager('test', 'user', 5000, [dev1])\n",
    "print(mngr_1.email, end='\\n\\n')\n",
    "\n",
    "mngr_1.print_emps()\n",
    "\n",
    "mngr_1.add_emp(dev2)\n",
    "mngr_1.print_emps()\n",
    "\n",
    "mngr_1.remove_emp(dev1)\n",
    "\n",
    "mngr_1.print_emps()"
   ]
  },
  {
   "cell_type": "markdown",
   "id": "3d0ad6f1",
   "metadata": {},
   "source": [
    "**isinstance to check object is an instance of which class**"
   ]
  },
  {
   "cell_type": "code",
   "execution_count": 21,
   "id": "501a9f40",
   "metadata": {},
   "outputs": [
    {
     "name": "stdout",
     "output_type": "stream",
     "text": [
      "True\n",
      "True\n",
      "False\n"
     ]
    }
   ],
   "source": [
    "print(isinstance(mngr_1, Manager))\n",
    "print(isinstance(mngr_1, Employee))\n",
    "print(isinstance(mngr_1, Developer))"
   ]
  },
  {
   "cell_type": "markdown",
   "id": "13e84729",
   "metadata": {},
   "source": [
    "**issubclass to check if it is sub-class of another class**"
   ]
  },
  {
   "cell_type": "code",
   "execution_count": 22,
   "id": "ca901904",
   "metadata": {},
   "outputs": [
    {
     "name": "stdout",
     "output_type": "stream",
     "text": [
      "True\n",
      "True\n",
      "True\n",
      "False\n"
     ]
    }
   ],
   "source": [
    "print(issubclass(Employee, Employee))\n",
    "print(issubclass(Developer, Employee))\n",
    "print(issubclass(Developer, Developer))\n",
    "print(issubclass(Developer, Manager))"
   ]
  },
  {
   "cell_type": "markdown",
   "id": "68ababaf",
   "metadata": {},
   "source": [
    "## Python OOP Tutorial 5: Special (Magic/Dunder) Methods"
   ]
  },
  {
   "cell_type": "markdown",
   "id": "e64f33d9",
   "metadata": {},
   "source": [
    "\\__str__ vs \\__repr__ methods <br>\n",
    "\\__repr__ is used for developer informaiton. Generally Used to represent how object is constructed. <br>\n",
    "\\__str__ is used for human-readable object representation. <br>\n",
    "Dunder/Magic methods used here are <br>\n",
    "\\__init__, \\__add__, \\__len__, \\__str__, \\__repr__"
   ]
  },
  {
   "cell_type": "code",
   "execution_count": 23,
   "id": "4d381d1d",
   "metadata": {},
   "outputs": [
    {
     "name": "stdout",
     "output_type": "stream",
     "text": [
      "__main__.Employee(test,user,5000)\n",
      "test user - test.user@compay.com\n",
      "11000\n",
      "9\n"
     ]
    }
   ],
   "source": [
    "class Employee:\n",
    "    \n",
    "    raise_amount = 1.04\n",
    "    \n",
    "    def __init__(self, first, last, pay):\n",
    "        self.first = first\n",
    "        self.last = last\n",
    "        self.pay = pay\n",
    "        self.email = self.first + '.' + self.last + '@compay.com'\n",
    "        \n",
    "\n",
    "    def fullname(self):\n",
    "        return f'{self.first} {self.last}'\n",
    "    \n",
    "    def apply_raise(self):\n",
    "        self.pay = self.pay * self.raise_amount\n",
    "        \n",
    "    def __add__(self, other):        \n",
    "        if not isinstance(other, Employee):\n",
    "            return NotImplemented\n",
    "        \n",
    "        return self.pay + other.pay\n",
    "    \n",
    "    def __len__(self):\n",
    "        return len(self.fullname())\n",
    "    \n",
    "    def __repr__(self):\n",
    "        return f\"{self.__class__.__module__}.{self.__class__.__name__}({self.first},{self.last},{self.pay})\"\n",
    "\n",
    "    def __str__(self):\n",
    "        return f\"{self.fullname()} - {self.email}\"\n",
    "    \n",
    "\n",
    "emp1 = Employee('test', 'user', 5000)\n",
    "emp2 = Employee(first='test2', last='user2', pay=6000)\n",
    "\n",
    "print(repr(emp1))\n",
    "print(emp1)\n",
    "\n",
    "print(emp1 + emp2)\n",
    "print(len(emp1))"
   ]
  },
  {
   "cell_type": "code",
   "execution_count": 24,
   "id": "b853e7e5",
   "metadata": {},
   "outputs": [
    {
     "ename": "TypeError",
     "evalue": "unsupported operand type(s) for +: 'Employee' and 'int'",
     "output_type": "error",
     "traceback": [
      "\u001b[0;31m---------------------------------------------------------------------------\u001b[0m",
      "\u001b[0;31mTypeError\u001b[0m                                 Traceback (most recent call last)",
      "Input \u001b[0;32mIn [24]\u001b[0m, in \u001b[0;36m<cell line: 1>\u001b[0;34m()\u001b[0m\n\u001b[0;32m----> 1\u001b[0m \u001b[43memp1\u001b[49m\u001b[43m \u001b[49m\u001b[38;5;241;43m+\u001b[39;49m\u001b[43m \u001b[49m\u001b[38;5;241;43m2\u001b[39;49m\n",
      "\u001b[0;31mTypeError\u001b[0m: unsupported operand type(s) for +: 'Employee' and 'int'"
     ]
    }
   ],
   "source": [
    "emp1 + 2"
   ]
  },
  {
   "cell_type": "markdown",
   "id": "9960b5dd",
   "metadata": {},
   "source": [
    "if \\__add__ method doesn't return **NotImplemented**, then for above case error would be <br>\n",
    "AttributeError: 'int' object has no attribute 'pay'_"
   ]
  },
  {
   "cell_type": "code",
   "execution_count": 25,
   "id": "26d49c7f",
   "metadata": {},
   "outputs": [
    {
     "name": "stdout",
     "output_type": "stream",
     "text": [
      "9\n",
      "9\n",
      "103\n",
      "a99\n"
     ]
    }
   ],
   "source": [
    "print(str.__len__('test user'))\n",
    "print('test user'.__len__())\n",
    "print(int.__add__(4,99))\n",
    "print(str.__add__('a','99'))"
   ]
  },
  {
   "cell_type": "markdown",
   "id": "5355c7e9",
   "metadata": {},
   "source": [
    "### Dunder Methods in Datetime.py\n",
    "https://github.com/python/cpython/blob/main/Lib/datetime.py <br>"
   ]
  },
  {
   "cell_type": "markdown",
   "id": "5adce97f",
   "metadata": {},
   "source": [
    "### \\__add__\n",
    "`    def __add__(self, other):\n",
    "        \"Add a datetime and a timedelta.\"\n",
    "        if not isinstance(other, timedelta):\n",
    "            return NotImplemented\n",
    "        delta = timedelta(self.toordinal(),\n",
    "                          hours=self._hour,\n",
    "                          minutes=self._minute,\n",
    "                          seconds=self._second,\n",
    "                          microseconds=self._microsecond)\n",
    "        delta += other\n",
    "        hour, rem = divmod(delta.seconds, 3600)\n",
    "        minute, second = divmod(rem, 60)\n",
    "        if 0 < delta.days <= _MAXORDINAL:\n",
    "            return type(self).combine(date.fromordinal(delta.days),\n",
    "                                      time(hour, minute, second,\n",
    "                                           delta.microseconds,\n",
    "                                           tzinfo=self._tzinfo))\n",
    "        raise OverflowError(\"result out of range\")`"
   ]
  },
  {
   "cell_type": "markdown",
   "id": "f2092ae3",
   "metadata": {},
   "source": [
    "### \\__str__\n",
    "\n",
    "`    def isoformat(self):        \n",
    "        return \"%04d-%02d-%02d\" % (self._year, self._month, self._day)\n",
    "   `\n",
    "   <br>\n",
    "   `__str__ = isoformat`"
   ]
  },
  {
   "cell_type": "markdown",
   "id": "2bb71459",
   "metadata": {},
   "source": [
    "### \\__repr__\n",
    "\n",
    "`  def __repr__(self):        \n",
    "        return \"%s.%s(%d, %d, %d)\" % (self.__class__.__module__,\n",
    "                                      self.__class__.__qualname__,\n",
    "                                      self._year,\n",
    "                                      self._month,\n",
    "                                      self._day)`"
   ]
  },
  {
   "cell_type": "markdown",
   "id": "4426db80",
   "metadata": {},
   "source": [
    "## Python OOP Tutorial 6: Property Decorators - Getters, Setters, and Deleters"
   ]
  },
  {
   "cell_type": "code",
   "execution_count": 27,
   "id": "56a19c39",
   "metadata": {},
   "outputs": [
    {
     "name": "stdout",
     "output_type": "stream",
     "text": [
      "test.user@compay.com\n"
     ]
    }
   ],
   "source": [
    "class Employee:\n",
    "    \n",
    "    def __init__(self, first, last):\n",
    "        self.first = first\n",
    "        self.last = last\n",
    "        self.email = self.first + '.' + self.last + '@compay.com'\n",
    "        \n",
    "\n",
    "    def fullname(self):\n",
    "        return f'{self.first} {self.last}'\n",
    "        \n",
    "emp1 = Employee('test', 'user')\n",
    "emp2 = Employee(first='test2', last='user2')\n",
    "\n",
    "emp1.first = \"John\"\n",
    "\n",
    "print(emp1.email)"
   ]
  },
  {
   "cell_type": "markdown",
   "id": "64ab6f54",
   "metadata": {},
   "source": [
    "So changing employee first name didn't change email. If we make email a method, all codebase will have to change email from attribute to method. Instead use property decorator"
   ]
  },
  {
   "cell_type": "code",
   "execution_count": 30,
   "id": "ec4bce70",
   "metadata": {},
   "outputs": [
    {
     "name": "stdout",
     "output_type": "stream",
     "text": [
      "John.user@compay.com\n",
      "John user\n"
     ]
    }
   ],
   "source": [
    "class Employee:\n",
    "    \n",
    "    def __init__(self, first, last):\n",
    "        self.first = first\n",
    "        self.last = last        \n",
    "    \n",
    "    @property\n",
    "    def email(self):\n",
    "        return self.first + '.' + self.last + '@compay.com'\n",
    "    \n",
    "    @property\n",
    "    def fullname(self):\n",
    "        return f'{self.first} {self.last}'\n",
    "        \n",
    "emp1 = Employee('test', 'user')\n",
    "emp2 = Employee(first='test2', last='user2')\n",
    "\n",
    "emp1.first = \"John\"\n",
    "\n",
    "print(emp1.email)\n",
    "print(emp1.fullname)"
   ]
  },
  {
   "cell_type": "markdown",
   "id": "5bd177ce",
   "metadata": {},
   "source": [
    "Setting fullname will gave error. So lets create its setter."
   ]
  },
  {
   "cell_type": "code",
   "execution_count": 31,
   "id": "d10d3fd0",
   "metadata": {},
   "outputs": [
    {
     "ename": "AttributeError",
     "evalue": "can't set attribute",
     "output_type": "error",
     "traceback": [
      "\u001b[0;31m---------------------------------------------------------------------------\u001b[0m",
      "\u001b[0;31mAttributeError\u001b[0m                            Traceback (most recent call last)",
      "Input \u001b[0;32mIn [31]\u001b[0m, in \u001b[0;36m<cell line: 1>\u001b[0;34m()\u001b[0m\n\u001b[0;32m----> 1\u001b[0m \u001b[43memp1\u001b[49m\u001b[38;5;241;43m.\u001b[39;49m\u001b[43mfullname\u001b[49m \u001b[38;5;241m=\u001b[39m \u001b[38;5;124m\"\u001b[39m\u001b[38;5;124mRonoa Zoro\u001b[39m\u001b[38;5;124m\"\u001b[39m\n",
      "\u001b[0;31mAttributeError\u001b[0m: can't set attribute"
     ]
    }
   ],
   "source": [
    "emp1.fullname = \"Ronoa Zoro\""
   ]
  },
  {
   "cell_type": "markdown",
   "id": "eabd0634",
   "metadata": {},
   "source": [
    "#### Setter, Getter, Deleter"
   ]
  },
  {
   "cell_type": "code",
   "execution_count": 39,
   "id": "2fd740e8",
   "metadata": {},
   "outputs": [
    {
     "name": "stdout",
     "output_type": "stream",
     "text": [
      "test.user@compay.com\n",
      "test user\n",
      "Ronoa.Zoro@compay.com\n",
      "Ronoa Zoro\n",
      "fullname deleted successfully.\n"
     ]
    }
   ],
   "source": [
    "class Employee:\n",
    "    \n",
    "    def __init__(self, first, last):\n",
    "        self.first = first\n",
    "        self.last = last        \n",
    "    \n",
    "    @property\n",
    "    def email(self):        \n",
    "        return self.first + '.' + self.last + '@compay.com'\n",
    "    \n",
    "    @property\n",
    "    def fullname(self):\n",
    "        return f'{self.first} {self.last}'\n",
    "    \n",
    "    @fullname.setter\n",
    "    def fullname(self, name):\n",
    "        self.first, self.last = name.split()\n",
    "        \n",
    "    @fullname.deleter\n",
    "    def fullname(self):\n",
    "        print('fullname deleted successfully.')\n",
    "        self.first, self.last = None, None\n",
    "        \n",
    "emp1 = Employee('test', 'user')\n",
    "emp2 = Employee(first='test2', last='user2')\n",
    "\n",
    "print(emp1.email)\n",
    "print(emp1.fullname)\n",
    "\n",
    "emp1.fullname = \"Ronoa Zoro\"\n",
    "\n",
    "print(emp1.email)\n",
    "print(emp1.fullname)\n",
    "\n",
    "del emp1.fullname"
   ]
  },
  {
   "cell_type": "code",
   "execution_count": 40,
   "id": "e12eec9f",
   "metadata": {},
   "outputs": [
    {
     "name": "stdout",
     "output_type": "stream",
     "text": [
      "None\n",
      "None\n"
     ]
    }
   ],
   "source": [
    "print(emp1.first)\n",
    "print(emp1.last)"
   ]
  }
 ],
 "metadata": {
  "kernelspec": {
   "display_name": "Python 3",
   "language": "python",
   "name": "python3"
  },
  "language_info": {
   "codemirror_mode": {
    "name": "ipython",
    "version": 3
   },
   "file_extension": ".py",
   "mimetype": "text/x-python",
   "name": "python",
   "nbconvert_exporter": "python",
   "pygments_lexer": "ipython3",
   "version": "3.9.12"
  }
 },
 "nbformat": 4,
 "nbformat_minor": 5
}
