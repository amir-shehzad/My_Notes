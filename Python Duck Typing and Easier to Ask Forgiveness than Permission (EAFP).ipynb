{
 "cells": [
  {
   "cell_type": "markdown",
   "id": "6bfed0d7",
   "metadata": {},
   "source": [
    "The following is mainly Notebook version of the talk [Python Tutorial: Duck Typing and Asking Forgiveness, Not Permission (EAFP)](https://www.youtube.com/watch?v=x3v9zMX1s4s) by the Python Guru **Corey Schafer**."
   ]
  },
  {
   "cell_type": "markdown",
   "id": "57a3ea12",
   "metadata": {},
   "source": [
    "Duck Typing and EAFP are the fundamentals for a code to be __Pythonic__.<br> <br>\n",
    "\n",
    "**Duck typing** is a concept related to dynamic typing when programmers do not care about exactly what an object is or what class it belongs to or what its type is, but only care about whether an object can do the operations that we ask it to execute. <br>\n",
    "**Duck Typing** says if it walks like a duck and quacks like a duck, then it is a duck. <br>\n",
    "<br> <br>\n",
    "**Easier to Ask Forgiveness than Permission EAFP** is a coding style in python. <br>\n",
    "It suggests that right away, you should do what you expect to work. If it doesn't work and an exception happens, then just catch the exception and handle it appropriately. <br>\n",
    "Lets explore:"
   ]
  },
  {
   "cell_type": "code",
   "execution_count": 1,
   "id": "1a9d7d5c",
   "metadata": {},
   "outputs": [],
   "source": [
    "class Duck:\n",
    "\n",
    "    def quack(self):\n",
    "        print('Quack, quack')\n",
    "\n",
    "    def fly(self):\n",
    "        print('Flap, Flap!')\n",
    "\n",
    "\n",
    "class Person:\n",
    "\n",
    "    def quack(self):\n",
    "        print(\"I'm Quacking Like a Duck!\")\n",
    "\n",
    "    def fly(self):\n",
    "        print(\"I'm Flapping my Arms!\")"
   ]
  },
  {
   "cell_type": "markdown",
   "id": "770184cc",
   "metadata": {},
   "source": [
    "#### Not Duck-Typed (Non-Pythonic)"
   ]
  },
  {
   "cell_type": "markdown",
   "id": "64f6f5d2",
   "metadata": {},
   "source": [
    "Pass object as parameter and check if object can quack and fly"
   ]
  },
  {
   "cell_type": "code",
   "execution_count": 2,
   "id": "16114240",
   "metadata": {},
   "outputs": [
    {
     "name": "stdout",
     "output_type": "stream",
     "text": [
      "Quack, quack\n",
      "Flap, Flap!\n",
      "This has to be a Duck!\n"
     ]
    }
   ],
   "source": [
    "def quack_and_fly(thing):\n",
    "    if isinstance(thing, Duck):\n",
    "        thing.quack()\n",
    "        thing.fly()\n",
    "    else:\n",
    "        print('This has to be a Duck!')\n",
    "\n",
    "d = Duck()\n",
    "quack_and_fly(d)\n",
    "\n",
    "p = Person()\n",
    "quack_and_fly(p)"
   ]
  },
  {
   "cell_type": "markdown",
   "id": "6a840928",
   "metadata": {},
   "source": [
    "In non Duck-Typed, we do care about type of object as we are doing in the above function. Let's re-write the function in Duck-Typed way."
   ]
  },
  {
   "cell_type": "markdown",
   "id": "2594b1de",
   "metadata": {},
   "source": [
    "#### Duck-Typed (Pythonic)\n",
    "We don't care about type of object. So by Duck-Typing, call quack and fly methods on Duck and Person objects. If they are succesfully executed then they are of similar types else not."
   ]
  },
  {
   "cell_type": "code",
   "execution_count": 3,
   "id": "df737f4b",
   "metadata": {},
   "outputs": [
    {
     "name": "stdout",
     "output_type": "stream",
     "text": [
      "Quack, quack\n",
      "Flap, Flap!\n",
      "\n",
      "I'm Quacking Like a Duck!\n",
      "I'm Flapping my Arms!\n",
      "\n"
     ]
    }
   ],
   "source": [
    "def quack_and_fly(thing):\n",
    "    thing.quack()\n",
    "    thing.fly()\n",
    "    \n",
    "    print()\n",
    "\n",
    "d = Duck()\n",
    "quack_and_fly(d)\n",
    "\n",
    "p = Person()\n",
    "quack_and_fly(p)"
   ]
  },
  {
   "cell_type": "markdown",
   "id": "291446bc",
   "metadata": {},
   "source": [
    "Hence we can say Duck and Person objects are of similar types. But above way can cause exceptions. This is where second concept of **EAFP** comes in. There are two ways to handle exceptions. <br>\n",
    "First lets see the Non-Pythonic way called **Look Before You Leap (LBYL)**.  <br>\n",
    "In **LBYL** you check if an attribute exists and if it exists, then check whether it can be called or not."
   ]
  },
  {
   "cell_type": "code",
   "execution_count": 4,
   "id": "bd509978",
   "metadata": {},
   "outputs": [
    {
     "name": "stdout",
     "output_type": "stream",
     "text": [
      "Quack, quack\n",
      "Flap, Flap!\n",
      "\n",
      "I'm Quacking Like a Duck!\n",
      "I'm Flapping my Arms!\n",
      "\n"
     ]
    }
   ],
   "source": [
    "def quack_and_fly(thing):    \n",
    "    if hasattr(thing, 'quack'):\n",
    "        if callable(thing.quack):\n",
    "            thing.quack()\n",
    "    \n",
    "    if hasattr(thing, 'fly'):\n",
    "        if callable(thing.fly):\n",
    "            thing.fly()\n",
    "            \n",
    "    print()\n",
    "\n",
    "d = Duck()\n",
    "quack_and_fly(d)\n",
    "\n",
    "p = Person()\n",
    "quack_and_fly(p)"
   ]
  },
  {
   "cell_type": "markdown",
   "id": "57dd42c6",
   "metadata": {},
   "source": [
    "Above code is a lot complex for the simple thing we are trying, to call functions. It is also not very readable. <br>\n",
    "\n",
    "Pythonic concept of **EAFP** says to do opposite. \n",
    "Just execute the methods and if they don't work and exception occures, ask for forgiveness by catching the exception.\n",
    "**So Duck Typing and EAFP go together.**"
   ]
  },
  {
   "cell_type": "code",
   "execution_count": 5,
   "id": "8bf1fa8b",
   "metadata": {
    "scrolled": true
   },
   "outputs": [
    {
     "name": "stdout",
     "output_type": "stream",
     "text": [
      "Quack, quack\n",
      "Flap, Flap!\n",
      "\n",
      "I'm Quacking Like a Duck!\n",
      "I'm Flapping my Arms!\n",
      "\n"
     ]
    }
   ],
   "source": [
    "def quack_and_fly(thing):\n",
    "    # EAFP (Pythonic)\n",
    "    try:\n",
    "        thing.quack()\n",
    "        thing.fly()\n",
    "    except AttributeError as e:\n",
    "        print(e)\n",
    "            \n",
    "    print()\n",
    "\n",
    "d = Duck()\n",
    "quack_and_fly(d)\n",
    "\n",
    "p = Person()\n",
    "quack_and_fly(p)"
   ]
  },
  {
   "cell_type": "markdown",
   "id": "5fcf5e35",
   "metadata": {},
   "source": [
    "Now lets change a code line to add bark method which doesn't exists."
   ]
  },
  {
   "cell_type": "code",
   "execution_count": 6,
   "id": "cde73ddc",
   "metadata": {},
   "outputs": [
    {
     "name": "stdout",
     "output_type": "stream",
     "text": [
      "Quack, quack\n",
      "Flap, Flap!\n",
      "'Duck' object has no attribute 'bark'\n",
      "\n",
      "I'm Quacking Like a Duck!\n",
      "I'm Flapping my Arms!\n",
      "'Person' object has no attribute 'bark'\n",
      "\n"
     ]
    }
   ],
   "source": [
    "def quack_and_fly(thing):\n",
    "    # EAFP (Pythonic)\n",
    "    try:\n",
    "        thing.quack()\n",
    "        thing.fly()\n",
    "        thing.bark()\n",
    "    except AttributeError as e:\n",
    "        print(e)\n",
    "            \n",
    "    print()\n",
    "\n",
    "d = Duck()\n",
    "quack_and_fly(d)\n",
    "\n",
    "p = Person()\n",
    "quack_and_fly(p)"
   ]
  },
  {
   "cell_type": "markdown",
   "id": "89772b53",
   "metadata": {},
   "source": [
    "So above is EAFP Policy. Try to do something, if it doesn't work, handle that error."
   ]
  },
  {
   "cell_type": "markdown",
   "id": "d20bc6d5",
   "metadata": {},
   "source": [
    "##  Other Examples"
   ]
  },
  {
   "cell_type": "markdown",
   "id": "704288a8",
   "metadata": {},
   "source": [
    "### Example 1\n",
    "Printing values from a dictionary"
   ]
  },
  {
   "cell_type": "markdown",
   "id": "d7f752bc",
   "metadata": {},
   "source": [
    "**LBYL way (Non-Pythonic)** <br>\n",
    "Check if keys are present"
   ]
  },
  {
   "cell_type": "code",
   "execution_count": 7,
   "id": "e2186f30",
   "metadata": {},
   "outputs": [
    {
     "name": "stdout",
     "output_type": "stream",
     "text": [
      "I am luffy. I am 18 years old and I am a Pirate\n"
     ]
    }
   ],
   "source": [
    "person = dict(name='luffy', age='18', job='Pirate')\n",
    "\n",
    "if 'name' in person and 'age' in person and 'job' in person:\n",
    "    print('I am {name}. I am {age} years old and I am a {job}'.format(**person))\n",
    "else:\n",
    "    print('Missing Some Keys')"
   ]
  },
  {
   "cell_type": "markdown",
   "id": "e9e44eab",
   "metadata": {},
   "source": [
    "**EAFP way (Pythonic)** <br>\n",
    "Don't check for keys. Just execute and catch exceptions if they occur"
   ]
  },
  {
   "cell_type": "code",
   "execution_count": 8,
   "id": "53232e36",
   "metadata": {},
   "outputs": [
    {
     "name": "stdout",
     "output_type": "stream",
     "text": [
      "Missing 'job' Key\n"
     ]
    }
   ],
   "source": [
    "person = dict(name='luffy', age='18')\n",
    "\n",
    "try:\n",
    "    print('I am {name}. I am {age} years old and I am a {job}'.format(**person))\n",
    "except KeyError as e:\n",
    "    print(f'Missing {e} Key')"
   ]
  },
  {
   "cell_type": "markdown",
   "id": "b831b6bc",
   "metadata": {},
   "source": [
    "Instead of checking keys i.e., asking for permission, just access keys. If some keys are not found, then catch exception i.e., ask for forgiveness."
   ]
  },
  {
   "cell_type": "markdown",
   "id": "5ed5c8a0",
   "metadata": {},
   "source": [
    "### Example 2\n",
    "Getting a value at a specific index"
   ]
  },
  {
   "cell_type": "code",
   "execution_count": 9,
   "id": "6e5fbac6",
   "metadata": {},
   "outputs": [],
   "source": [
    "my_list = [1,2,3,4,5, 6]"
   ]
  },
  {
   "cell_type": "markdown",
   "id": "eae18167",
   "metadata": {},
   "source": [
    "**LBYL way (Non-Pythonic)** <br>\n",
    "Check if index is valid"
   ]
  },
  {
   "cell_type": "code",
   "execution_count": 10,
   "id": "696d226e",
   "metadata": {},
   "outputs": [
    {
     "name": "stdout",
     "output_type": "stream",
     "text": [
      "6\n"
     ]
    }
   ],
   "source": [
    "if len(my_list) >= 6:\n",
    "    print(my_list[5])\n",
    "else:\n",
    "    print(\"This index doesn't exist\")"
   ]
  },
  {
   "cell_type": "markdown",
   "id": "bbced6e8",
   "metadata": {},
   "source": [
    "**EAFP way (Pythonic)** <br>\n",
    "Don't check for valid index. Just execute and catch exceptions if they occur."
   ]
  },
  {
   "cell_type": "code",
   "execution_count": 11,
   "id": "75a7ba36",
   "metadata": {},
   "outputs": [
    {
     "name": "stdout",
     "output_type": "stream",
     "text": [
      "6\n",
      "\n",
      "Sequence index out of range.\n"
     ]
    }
   ],
   "source": [
    "try:\n",
    "    print(my_list[5])\n",
    "except IndexError:\n",
    "    print(\"This index doesn't exists\")\n",
    "    \n",
    "print()\n",
    "\n",
    "try:\n",
    "    print(my_list[6])\n",
    "except IndexError:\n",
    "    print(IndexError.__doc__)    "
   ]
  },
  {
   "cell_type": "markdown",
   "id": "267b7846",
   "metadata": {},
   "source": [
    "### Example 3"
   ]
  },
  {
   "cell_type": "markdown",
   "id": "888c0fbf",
   "metadata": {},
   "source": [
    "It is better to use **EAFP** style while reading a file to avoid **Race Condiitons**. Lets see"
   ]
  },
  {
   "cell_type": "code",
   "execution_count": 12,
   "id": "67556ecb",
   "metadata": {},
   "outputs": [],
   "source": [
    "import os\n",
    "my_file = 'test.txt'"
   ]
  },
  {
   "cell_type": "code",
   "execution_count": 13,
   "id": "36039e22",
   "metadata": {},
   "outputs": [],
   "source": [
    "# on linux systems create file\n",
    "!echo 'File testing dummy file data' > test.txt"
   ]
  },
  {
   "cell_type": "markdown",
   "id": "703da6d1",
   "metadata": {},
   "source": [
    "**LBYL way (Non-Pythonic)**"
   ]
  },
  {
   "cell_type": "code",
   "execution_count": 14,
   "id": "f0930424",
   "metadata": {},
   "outputs": [
    {
     "name": "stdout",
     "output_type": "stream",
     "text": [
      "File testing dummy file data\n",
      "\n"
     ]
    }
   ],
   "source": [
    "# Race Condition\n",
    "if os.access(my_file, os.R_OK):\n",
    "    with open(my_file) as f:\n",
    "        print(f.read())\n",
    "else:\n",
    "    print('file cannot be accessed')"
   ]
  },
  {
   "cell_type": "markdown",
   "id": "d88e4655",
   "metadata": {},
   "source": [
    "Problem with above code is if file is accessible while checking with os.access method and during the time to go from checking with os.access to actually opening the file with open(), another program accesses the file, exception will occur. <br>\n",
    "This won't happen with **EAFP** style code."
   ]
  },
  {
   "cell_type": "code",
   "execution_count": 15,
   "id": "7967fa73",
   "metadata": {},
   "outputs": [
    {
     "name": "stdout",
     "output_type": "stream",
     "text": [
      "File testing dummy file data\n",
      "\n"
     ]
    }
   ],
   "source": [
    "# No Race Condition\n",
    "try:\n",
    "    f = open(my_file)\n",
    "except IOError as e:\n",
    "    print('File cannot be accessed')\n",
    "else:\n",
    "    with f:\n",
    "        print(f.read())"
   ]
  },
  {
   "cell_type": "markdown",
   "id": "150db73d",
   "metadata": {},
   "source": [
    "## So why is EAFP considered a better choice?**\n",
    "- Well it is faster in situations where you don't expect a lot of exceptions. In the example 1 above, if you know that keys will be found most of the time, then one line of code will be executed in case of **EAFP** style while two lines to execute in **LBYL** style, one for checking keys and one for print(). So not asking for permissions is sometimes better. Just ask for forgiveness later on if your code caused exceptions :-D <br>\n",
    "- Another thing to note is that **EAFP** code is more readable in many situations as in examples above. "
   ]
  },
  {
   "cell_type": "markdown",
   "id": "32a0350f",
   "metadata": {},
   "source": [
    "## References:\n",
    "- https://www.youtube.com/watch?v=x3v9zMX1s4s\n",
    "- https://realpython.com/"
   ]
  }
 ],
 "metadata": {
  "kernelspec": {
   "display_name": "Python 3 (ipykernel)",
   "language": "python",
   "name": "python3"
  },
  "language_info": {
   "codemirror_mode": {
    "name": "ipython",
    "version": 3
   },
   "file_extension": ".py",
   "mimetype": "text/x-python",
   "name": "python",
   "nbconvert_exporter": "python",
   "pygments_lexer": "ipython3",
   "version": "3.9.12"
  }
 },
 "nbformat": 4,
 "nbformat_minor": 5
}
